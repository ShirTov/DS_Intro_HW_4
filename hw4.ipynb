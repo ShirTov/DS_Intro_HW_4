{
  "nbformat": 4,
  "nbformat_minor": 0,
  "metadata": {
    "colab": {
      "name": "hw4.ipynb",
      "provenance": []
    },
    "kernelspec": {
      "name": "python3",
      "display_name": "Python 3"
    },
    "language_info": {
      "name": "python"
    }
  },
  "cells": [
    {
      "cell_type": "markdown",
      "source": [
        "#Preparation of the data\n"
      ],
      "metadata": {
        "id": "sGO4ZuNlLUN4"
      }
    },
    {
      "cell_type": "code",
      "source": [
        "import requests,json\n",
        "from os import read\n"
      ],
      "metadata": {
        "id": "oEn1IYAfFjif"
      },
      "execution_count": 1,
      "outputs": []
    },
    {
      "cell_type": "code",
      "execution_count": 2,
      "metadata": {
        "colab": {
          "base_uri": "https://localhost:8080/"
        },
        "id": "KSYLIF-gFKPN",
        "outputId": "0df857c4-4c25-4b3d-da97-1ee90285dcf7"
      },
      "outputs": [
        {
          "output_type": "stream",
          "name": "stdout",
          "text": [
            "Istanbul\n",
            "Amsterdam\n",
            "Valletta\n",
            "Basel\n",
            "Doha\n",
            "['Istanbul', 'Amsterdam', 'Valletta', 'Basel', 'Doha']\n"
          ]
        }
      ],
      "source": [
        "\n",
        "datafile = open('dests.txt')\n",
        "data = datafile.read()\n",
        "print(data)\n",
        "datafile.close()\n",
        "\n",
        "destenationList = data.split(\"\\n\")\n",
        "print(destenationList)"
      ]
    },
    {
      "cell_type": "code",
      "source": [
        "result_dict=dict()\n",
        "API='your api'\n",
        "url_distanceMatrix = \"https://maps.googleapis.com/maps/api/distancematrix/json?\"\n",
        "url_geocoding='https://maps.googleapis.com/maps/api/geocode/json?'\n",
        "originLoc='Jerusalem'\n",
        "for i in range(len(destenationList)):  \n",
        "  dest=destenationList[i]\n",
        "  ansDIstMatrix=requests.get(url_distanceMatrix+'&origins='+originLoc+'&destinations='+dest+'&key='+API)\n",
        "  ansDIstMatrix=ansDIstMatrix.json()\n",
        "  ansGeoCod=requests.get(url_geocoding+'&address='+dest+'&key='+API)\n",
        "  ansGeoCod=ansGeoCod.json()\n",
        "  lat=str(ansGeoCod ['results'][0]['geometry']['location']['lat'])\n",
        "  lng=str(ansGeoCod ['results'][0]['geometry']['location']['lng'])\n",
        "  distance=ansDIstMatrix['rows'][0]['elements'][0]['distance']['text']\n",
        "  duration=ansDIstMatrix['rows'][0]['elements'][0]['duration']['text']\n",
        "  result_dict[dest]=(distance,duration,lng,lat)\n",
        "  \n",
        "print(result_dict)\n",
        "print(result_dict.keys())"
      ],
      "metadata": {
        "colab": {
          "base_uri": "https://localhost:8080/"
        },
        "id": "_2aaA4V57i7u",
        "outputId": "421a430f-1919-4078-8158-dab642ad97b5"
      },
      "execution_count": 20,
      "outputs": [
        {
          "output_type": "stream",
          "name": "stdout",
          "text": [
            "{'Istanbul': ('1,809 km', '20 hours 39 mins', '28.9783589', '41.0082376'), 'Amsterdam': ('4,528 km', '1 day 23 hours', '4.9041389', '52.3675734'), 'Valletta': ('3,783 km', '2 days 2 hours', '14.5145528', '35.8989085'), 'Basel': ('4,111 km', '1 day 20 hours', '7.5885761', '47.5595986'), 'Doha': ('2,105 km', '21 hours 58 mins', '51.53103979999999', '25.2854473')}\n",
            "dict_keys(['Istanbul', 'Amsterdam', 'Valletta', 'Basel', 'Doha'])\n"
          ]
        }
      ]
    },
    {
      "cell_type": "markdown",
      "source": [
        "#print result"
      ],
      "metadata": {
        "id": "8POsyKx6M02r"
      }
    },
    {
      "cell_type": "code",
      "source": [
        "for k in result_dict.keys():\n",
        "  print('from: ' + originLoc + ' to: ' + k + ':\\n\\tdistance: ' \n",
        "        + result_dict[k][0] +  '\\n\\tduration: ' + result_dict[k][1] +  '\\n\\t'\n",
        "        +'lng: ' + result_dict[k][2] +  '\\n\\t' \n",
        "        +'lat: ' + result_dict[k][3] +  '\\n\\t' )\n",
        "\n",
        "\n",
        "\n"
      ],
      "metadata": {
        "id": "-mZswXKF2sO-",
        "colab": {
          "base_uri": "https://localhost:8080/"
        },
        "outputId": "ebb11781-a0ee-4dbf-d6e3-67c4ae03bdd8"
      },
      "execution_count": 21,
      "outputs": [
        {
          "output_type": "stream",
          "name": "stdout",
          "text": [
            "from: Jerusalem to: Istanbul:\n",
            "\tdistance: 1,809 km\n",
            "\tduration: 20 hours 39 mins\n",
            "\tlng: 28.9783589\n",
            "\tlat: 41.0082376\n",
            "\t\n",
            "from: Jerusalem to: Amsterdam:\n",
            "\tdistance: 4,528 km\n",
            "\tduration: 1 day 23 hours\n",
            "\tlng: 4.9041389\n",
            "\tlat: 52.3675734\n",
            "\t\n",
            "from: Jerusalem to: Valletta:\n",
            "\tdistance: 3,783 km\n",
            "\tduration: 2 days 2 hours\n",
            "\tlng: 14.5145528\n",
            "\tlat: 35.8989085\n",
            "\t\n",
            "from: Jerusalem to: Basel:\n",
            "\tdistance: 4,111 km\n",
            "\tduration: 1 day 20 hours\n",
            "\tlng: 7.5885761\n",
            "\tlat: 47.5595986\n",
            "\t\n",
            "from: Jerusalem to: Doha:\n",
            "\tdistance: 2,105 km\n",
            "\tduration: 21 hours 58 mins\n",
            "\tlng: 51.53103979999999\n",
            "\tlat: 25.2854473\n",
            "\t\n"
          ]
        }
      ]
    },
    {
      "cell_type": "markdown",
      "source": [
        "#Extract 3 Furthest cities from Jerusalem\n",
        "\n"
      ],
      "metadata": {
        "id": "nBCIaDNxQDXU"
      }
    },
    {
      "cell_type": "code",
      "source": [
        "def convert_values(dictionary,i, keyName):\n",
        "    value=dictionary[keyName][i]\n",
        "    value=value.split(\" \")\n",
        "    value=value[0]\n",
        "    value=value.replace(\",\",\"\")\n",
        "    return int(value)\n",
        "\n",
        "total=3\n",
        "\n",
        "disDict=dict()\n",
        "for k in result_dict.keys():\n",
        "  disDict[k]=convert_values(result_dict,0,k)\n",
        "furthest_cities= sorted(disDict, key=disDict.get, reverse=True)[:total]\n",
        "\n",
        "print(disDict)  \n",
        "print(str(total) +' furthest cities are: ')\n",
        "\n",
        "print(*furthest_cities, sep = \", \")\n",
        "\n"
      ],
      "metadata": {
        "colab": {
          "base_uri": "https://localhost:8080/"
        },
        "id": "ve6NBy9oNoMO",
        "outputId": "8d09e0e7-d233-48ee-f8a1-660e028d4f8c"
      },
      "execution_count": 34,
      "outputs": [
        {
          "output_type": "stream",
          "name": "stdout",
          "text": [
            "{'Istanbul': 1809, 'Amsterdam': 4528, 'Valletta': 3783, 'Basel': 4111, 'Doha': 2105}\n",
            "3 furthest cities are: \n",
            "Amsterdam, Basel, Valletta\n"
          ]
        }
      ]
    }
  ]
}